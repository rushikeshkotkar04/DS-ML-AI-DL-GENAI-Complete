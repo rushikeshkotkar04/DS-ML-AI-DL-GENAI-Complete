{
 "cells": [
  {
   "cell_type": "code",
   "execution_count": 1,
   "metadata": {},
   "outputs": [],
   "source": [
    "import sqlite3"
   ]
  },
  {
   "cell_type": "code",
   "execution_count": 2,
   "metadata": {},
   "outputs": [
    {
     "data": {
      "text/plain": [
       "<sqlite3.Connection at 0x2d3d3599b40>"
      ]
     },
     "execution_count": 2,
     "metadata": {},
     "output_type": "execute_result"
    }
   ],
   "source": [
    "##Connect to sql-lite db and create db\n",
    "connection=sqlite3.connect(\"example.db\")\n",
    "connection"
   ]
  },
  {
   "cell_type": "code",
   "execution_count": 7,
   "metadata": {},
   "outputs": [],
   "source": [
    "## Cursor to execute commands\n",
    "cursor=connection.cursor()\n",
    "cursor.execute('''create table if not exists employees(\n",
    "    id integer primary key,\n",
    "    name text not null,\n",
    "    age Integer,\n",
    "    department text\n",
    "  )''');\n",
    "### cmmit\n",
    "connection.commit()"
   ]
  },
  {
   "cell_type": "code",
   "execution_count": 16,
   "metadata": {},
   "outputs": [],
   "source": [
    "## Insert the data into sqlite 3\n",
    "cursor.execute('''\n",
    "    insert into employees(name,age,department) values('Rushi',25,'SWE')\n",
    "  ''');\n",
    "cursor.execute('''\n",
    "    insert into employees(name,age,department) values('akash',26,'SDE')\n",
    "  ''');\n",
    "cursor.execute('''\n",
    "    insert into employees(name,age,department) values('neha',30,'SDET')\n",
    "  ''');\n",
    "\n",
    "connection.commit()"
   ]
  },
  {
   "cell_type": "code",
   "execution_count": 20,
   "metadata": {},
   "outputs": [
    {
     "name": "stdout",
     "output_type": "stream",
     "text": [
      "(1, 'Rushi', 25, 'SWE')\n",
      "(2, 'Rushi', 25, 'SWE')\n",
      "(3, 'akash', 26, 'SDE')\n",
      "(4, 'neha', 30, 'SDET')\n",
      "(5, 'Rushi', 25, 'SWE')\n",
      "(6, 'akash', 26, 'SDE')\n",
      "(7, 'neha', 30, 'SDET')\n"
     ]
    }
   ],
   "source": [
    "cursor.execute('''\n",
    "    select * from employees\n",
    "  ''');\n",
    "rows=cursor.fetchall()\n",
    "for row in rows:\n",
    "  print(row)"
   ]
  },
  {
   "cell_type": "code",
   "execution_count": null,
   "metadata": {},
   "outputs": [],
   "source": []
  }
 ],
 "metadata": {
  "kernelspec": {
   "display_name": "Python 3",
   "language": "python",
   "name": "python3"
  },
  "language_info": {
   "codemirror_mode": {
    "name": "ipython",
    "version": 3
   },
   "file_extension": ".py",
   "mimetype": "text/x-python",
   "name": "python",
   "nbconvert_exporter": "python",
   "pygments_lexer": "ipython3",
   "version": "3.10.16"
  }
 },
 "nbformat": 4,
 "nbformat_minor": 2
}
